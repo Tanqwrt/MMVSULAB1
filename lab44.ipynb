{
  "nbformat": 4,
  "nbformat_minor": 0,
  "metadata": {
    "colab": {
      "provenance": [],
      "authorship_tag": "ABX9TyN8rRjLy4j4gn1CIxrthZOH",
      "include_colab_link": true
    },
    "kernelspec": {
      "name": "python3",
      "display_name": "Python 3"
    },
    "language_info": {
      "name": "python"
    }
  },
  "cells": [
    {
      "cell_type": "markdown",
      "metadata": {
        "id": "view-in-github",
        "colab_type": "text"
      },
      "source": [
        "<a href=\"https://colab.research.google.com/github/Tanqwrt/MMVSULAB1/blob/main/Untitled3.ipynb\" target=\"_parent\"><img src=\"https://colab.research.google.com/assets/colab-badge.svg\" alt=\"Open In Colab\"/></a>"
      ]
    },
    {
      "cell_type": "code",
      "execution_count": null,
      "metadata": {
        "id": "11W3QUsucOS3"
      },
      "outputs": [],
      "source": [
        "import matplotlib.pyplot as plt\n",
        "import numpy as np\n",
        "from scipy.integrate import odeint\n",
        "\n",
        "h=1 \n",
        "\n",
        "def dydt(x,t):\n",
        "  k = 0.42\n",
        "  return k*x\n",
        "t = np.linspace(0,10,h)\n",
        "\n",
        "def dydt(x,t):\n",
        "  for i:=1 in t: \n",
        "  t[i+1]=t[i]+h\n",
        "  print(i)\n",
        "\n",
        "solve =(dydt, 1, t=t)\n",
        "solve = solve.flatten()\n",
        "\n",
        "%matplotlib inline\n",
        "\n",
        "plt.plot(t, solve, label = r\"\")\n",
        "plt.grid(True)\n",
        "plt.legend()\n",
        "plt.show()\n",
        "     "
      ]
    }
  ]
}
