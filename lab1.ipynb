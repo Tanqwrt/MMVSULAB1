{
  "nbformat": 4,
  "nbformat_minor": 0,
  "metadata": {
    "colab": {
      "provenance": [],
      "authorship_tag": "ABX9TyMa+G5RVggRTsSZpo1mh4bC",
      "include_colab_link": true
    },
    "kernelspec": {
      "name": "python3",
      "display_name": "Python 3"
    },
    "language_info": {
      "name": "python"
    }
  },
  "cells": [
    {
      "cell_type": "markdown",
      "metadata": {
        "id": "view-in-github",
        "colab_type": "text"
      },
      "source": [
        "<a href=\"https://colab.research.google.com/github/Tanqwrt/MMVSULAB1/blob/main/Untitled0.ipynb\" target=\"_parent\"><img src=\"https://colab.research.google.com/assets/colab-badge.svg\" alt=\"Open In Colab\"/></a>"
      ]
    },
    {
      "cell_type": "markdown",
      "source": [
        "# Лабораторная работа №1"
      ],
      "metadata": {
        "id": "yzS7DvDreFYD"
      }
    },
    {
      "cell_type": "markdown",
      "source": [
        "Уравнение 1"
      ],
      "metadata": {
        "id": "BTqVHdKleLuq"
      }
    },
    {
      "cell_type": "code",
      "execution_count": 1,
      "metadata": {
        "colab": {
          "base_uri": "https://localhost:8080/",
          "height": 265
        },
        "id": "9pCQbJP_eAdO",
        "outputId": "95e923de-23f7-4d28-f177-3f68d7c29b9d"
      },
      "outputs": [
        {
          "output_type": "display_data",
          "data": {
            "text/plain": [
              "<Figure size 432x288 with 1 Axes>"
            ],
            "image/png": "[encoded data removed]"
          },
          "metadata": {
            "needs_background": "light"
          }
        }
      ],
      "source": [
        "import matplotlib.pyplot as plt\n",
        "import numpy as np\n",
        "from scipy.integrate import odeint\n",
        "def dydt(x,t):\n",
        "  k = 0.42\n",
        "  return k*x\n",
        "t = np.linspace(0,10,100)\n",
        "\n",
        "solve = odeint(dydt, 1, t=t)\n",
        "solve = solve.flatten()\n",
        "\n",
        "%matplotlib inline\n",
        "\n",
        "plt.plot(t, solve, label = r\"$x' = kx$\")\n",
        "plt.grid(True)\n",
        "plt.legend()\n",
        "plt.show()"
      ]
    },
    {
      "cell_type": "markdown",
      "source": [
        "Уравнение 2"
      ],
      "metadata": {
        "id": "bfXEoG-UePiP"
      }
    },
    {
      "cell_type": "code",
      "source": [
        "import matplotlib.pyplot as plt\n",
        "import numpy as np\n",
        "from scipy.integrate import odeint\n",
        "\n",
        "def dydt(x,t):\n",
        "  return k(x)*x\n",
        "\n",
        "def k(x):\n",
        "  a=2\n",
        "  b=6\n",
        "  return a*x-b\n",
        "\n",
        "t = np.linspace(0,10,100)\n",
        "\n",
        "solve = odeint(dydt, 1, t=t)\n",
        "solve = solve.flatten()\n",
        "\n",
        "%matplotlib inline\n",
        "\n",
        "plt.plot(t, solve, label = r\"$x' = k(x)*x$\")\n",
        "plt.grid(True)\n",
        "plt.legend()\n",
        "plt.show()"
      ],
      "metadata": {
        "colab": {
          "base_uri": "https://localhost:8080/",
          "height": 265
        },
        "id": "PBRho-zfeQht",
        "outputId": "75d237a6-eaa5-4d64-a3e5-7821965632f6"
      },
      "execution_count": 13,
      "outputs": [
        {
          "output_type": "display_data",
          "data": {
            "text/plain": [
              "<Figure size 432x288 with 1 Axes>"
            ],
            "image/png": "[encoded data removed]"
          },
          "metadata": {
            "needs_background": "light"
          }
        }
      ]
    },
    {
      "cell_type": "markdown",
      "source": [
        "Уравнение 3"
      ],
      "metadata": {
        "id": "jVGje0X5fkHK"
      }
    },
    {
      "cell_type": "code",
      "source": [
        "import matplotlib.pyplot as plt\n",
        "import numpy as np\n",
        "from scipy.integrate import odeint\n",
        "\n",
        "def dydt(x,t):\n",
        "  с=15\n",
        "  return k(x)*x-с\n",
        "\n",
        "def k(x):\n",
        "  a=2\n",
        "  b=6\n",
        "  return a*x-b\n",
        "\n",
        "t = np.linspace(0,10,100)\n",
        "\n",
        "solve = odeint(dydt, 1, t=t)\n",
        "solve = solve.flatten()\n",
        "\n",
        "%matplotlib inline\n",
        "\n",
        "plt.plot(t, solve, label = r\"$x' = k(x)*x-с$\")\n",
        "plt.grid(True)\n",
        "plt.legend()\n",
        "plt.show()"
      ],
      "metadata": {
        "colab": {
          "base_uri": "https://localhost:8080/",
          "height": 265
        },
        "id": "KTOwDBi3fmo6",
        "outputId": "42567e67-3899-4485-848f-1d859d204c3e"
      },
      "execution_count": 14,
      "outputs": [
        {
          "output_type": "display_data",
          "data": {
            "text/plain": [
              "<Figure size 432x288 with 1 Axes>"
            ],
            "image/png": "[encoded data removed]"
          },
          "metadata": {
            "needs_background": "light"
          }
        }
      ]
    },
    {
      "cell_type": "markdown",
      "source": [
        "Уравнение 4"
      ],
      "metadata": {
        "id": "Lvsy-CpLgvPu"
      }
    },
    {
      "cell_type": "code",
      "source": [
        "import matplotlib.pyplot as plt\n",
        "import numpy as np\n",
        "from scipy.integrate import odeint\n",
        "\n",
        "def k(x):\n",
        "  a=2\n",
        "  b=6\n",
        "  return a*x-b\n",
        "\n",
        "def c(x):\n",
        "  m=4\n",
        "  n=9\n",
        "  return m*x+n \n",
        "\n",
        "def dydt(x,t):\n",
        "  return k(x)*x - c(x)\n",
        "\n",
        "t = np.linspace(0,10,100)\n",
        "\n",
        "solve = odeint(dydt, 1, t=t)\n",
        "solve = solve.flatten()\n",
        "\n",
        "%matplotlib inline\n",
        "\n",
        "plt.plot(t, solve, label = r\"$x' = k(x)*x-с(x)$\")\n",
        "plt.grid(True)\n",
        "plt.legend()\n",
        "plt.show()"
      ],
      "metadata": {
        "colab": {
          "base_uri": "https://localhost:8080/",
          "height": 265
        },
        "id": "emLfkXowgx7V",
        "outputId": "50bdcfc7-d0ae-48aa-a777-4f9cf91d6217"
      },
      "execution_count": 19,
      "outputs": [
        {
          "output_type": "display_data",
          "data": {
            "text/plain": [
              "<Figure size 432x288 with 1 Axes>"
            ],
            "image/png": "[encoded data removed]"
          },
          "metadata": {
            "needs_background": "light"
          }
        }
      ]
    }
  ]
}
